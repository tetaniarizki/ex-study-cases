{
  "nbformat": 4,
  "nbformat_minor": 0,
  "metadata": {
    "colab": {
      "provenance": []
    },
    "kernelspec": {
      "name": "python3",
      "display_name": "Python 3"
    },
    "language_info": {
      "name": "python"
    }
  },
  "cells": [
    {
      "cell_type": "markdown",
      "source": [
        "## Pengenalan Computer Vision\n",
        "\n",
        "Computer vision merupakan bidang yang memungkinkan komputer atau sistem memperoleh informasi dari gambar digital, video, dan input visual lainnya.\n",
        "Pendekatan machine learning mengajarkan komputer untuk mengenali suatu objek dalam gambar dengan memberikan banyak data gambar beserta labelnya (solusi yang benar). \n",
        "\n",
        "---\n",
        "Misalnya, pada permasalahan klasifikasi hewan, kita akan menunjukkan kepada komputer banyak gambar hewan seperti burung, kelinci, kucing, dan sebagainya. Dengan data pelatihan seperti itu, komputer belajar cara mengklasifikasikan gambar yang belum pernah ditemui sebelumnya. \n",
        "\n",
        "---\n",
        "Dengan cara di atas, proses pengenalan dan klasifikasi gambar tentu jadi lebih mudah dan cepat.\n",
        "\n",
        "## Penerapan Computer Vision di Industri\n",
        "\n",
        "### Kesehatan\n",
        "Dengan computer vision, tenaga medis dapat menafsirkan citra sinar-X, CT scan, MRI, dan citra mikroskopis secara lebih akurat. Meskipun computer vision tidak akan sepenuhnya menggantikan tenaga kesehatan, ia cukup berperan dalam melengkapi diagnosis untuk pasien. \n",
        "\n",
        "### Autonomous Driving\n",
        "Berbagai arsitektur model machine learning diterapkan dalam self-driving cars, merentang dari kategori supervised, unsupervised, hingga reinforcement learning. Sebagai contoh, model Convolutional Neural Network dengan contoh arsitektur LeNet, AlexNet, ResNet, dan LSTM digunakan sebagai analisis data spasial, deteksi objek, dan lokalisasi. \n",
        "\n",
        "Sementara itu, model Generative Adversarial Network (GAN) digunakan untuk menghasilkan simulasi mengemudi secara virtual dan membantu model supervised learning. Sedangkan, teknik reinforcement learning digunakan sebagai sistem kontrol dalam mengemudi, manajemen, dan sistem pengambilan keputusan berbasis AI.\n",
        "\n",
        "Menarik, bukan? Beberapa arsitektur yang disebutkan tadi terdengar familier, ya? Saat ini Anda sedang belajar mengenai computer vision. Kelak, siapa tahu Anda terlibat dalam proyek pengembangan self-driving car. Semoga!\n",
        "\n",
        "### Facial Recognition System\n",
        "Sistem pengenalan wajah merupakan salah satu penerapan bidang computer vision yang telah digunakan secara luas. Ia bekerja dengan memetakan, menganalisis, dan mengonfirmasi identitas wajah dalam berbagai gambar digital (foto atau video). Sebagian besar dari kita telah lama menggunakannya dalam kehidupan sehari-hari, misalnya saat membuka kunci ponsel, maupun pada fitur penanda (tagging) di media sosial. \n",
        "\n",
        "---\n",
        "\n",
        "\n",
        "\n",
        "\n",
        "\n"
      ],
      "metadata": {
        "id": "kalDBh2rjjGN"
      }
    },
    {
      "cell_type": "markdown",
      "source": [
        "# Membangun Model Klasifikasi Rambu Lalu Lintas\n",
        "Pada proyek kali ini, kita akan membuat model machine learning terkait dengan penerapan computer vision pada self-driving cars. Kita akan membuat model klasifikasi gambar dengan data berupa rambu-rambu lalu lintas.\n",
        "\n",
        "---\n",
        "\n",
        "## Dataset German Trafic Sign\n",
        "[German Traffic Sign Dataset](https://www.kaggle.com/datasets/saadhaxxan/germantrafficsigns) merupakan benchmark dataset untuk klasifikasi gambar multi kelas. Terdapat satu rambu lalu lintas pada masing-masing gambar, sehingga dataset ini disebut juga sebagai single-image atau gambar tunggal. Dataset ini pertama kali diluncurkan dalam perlombaan (challenge) yang diselenggarakan oleh the International Joint Conference on Neural Networks (IJCNN) pada tahun 2011. \n",
        "\n",
        "Dataset ini memiliki komponen sebagai berikut:\n",
        "\n",
        "- Data untuk permasalahan klasifikasi gambar tunggal dengan banyak kelas.\n",
        "- Terdiri dari 43 kelas, artinya ada 43 jenis rambu lalu lintas.\n",
        "- Memiliki total lebih dari 50.000 gambar .\n",
        "- Data diambil dari foto rambu yang sebenarnya (bukan sintetis).\n",
        "\n",
        "Data yang akan kita gunakan dalam bentuk file pickle yang dibuat dengan modul Python bernama pickle. Ia digunakan untuk mengubah objek Python menjadi representasi byte untuk disimpan pada storage atau dipindahkan melalui jaringan. Hal ini memungkinkan objek untuk disimpan atau ditransmisikan dengan mudah tanpa mengubah data ke format lain terlebih dahulu. \n",
        "\n",
        "---\n",
        "\n",
        "### Loading Data"
      ],
      "metadata": {
        "id": "1ECZrukrx9Yn"
      }
    },
    {
      "cell_type": "code",
      "source": [
        "# import library\n",
        "import pandas as pd\n",
        "import numpy as np\n",
        "import tensorflow as tf\n",
        "from keras.models import Sequential\n",
        "from keras.models import Sequential, load_model\n",
        "from keras.layers import Conv2D, Dense, Flatten, Dropout, MaxPool2D\n",
        "from sklearn.model_selection import train_test_split\n",
        "import pickle\n",
        "import seaborn as sns\n",
        "import matplotlib\n",
        "import matplotlib.pyplot as plt\n",
        "matplotlib.style.use('ggplot')\n",
        "%matplotlib inline\n",
        "%config InlineBackend.figure_format = 'retina'"
      ],
      "metadata": {
        "id": "1ErsTcnPzNZi"
      },
      "execution_count": 1,
      "outputs": []
    },
    {
      "cell_type": "code",
      "source": [
        "# melakukan mount drive\n",
        "from google.colab import drive\n",
        "drive.mount('/content/drive')"
      ],
      "metadata": {
        "colab": {
          "base_uri": "https://localhost:8080/"
        },
        "id": "ZXB3PVR301ec",
        "outputId": "57287edf-cc71-4c27-bec2-13a74c3d914c"
      },
      "execution_count": 2,
      "outputs": [
        {
          "output_type": "stream",
          "name": "stdout",
          "text": [
            "Mounted at /content/drive\n"
          ]
        }
      ]
    },
    {
      "cell_type": "markdown",
      "source": [
        "Kode di atas memungkinkan kita untuk mengakses data pada drive. "
      ],
      "metadata": {
        "id": "kij1nSMg1gtJ"
      }
    },
    {
      "cell_type": "code",
      "source": [
        "# load the data\n",
        "\n",
        "training_file ='/content/drive/MyDrive/Dataset/German Traffic Sign/train.p'\n",
        "testing_file = '/content/drive/MyDrive/Dataset/German Traffic Sign/test.p'\n",
        "\n",
        "# open and load the training file\n",
        "with open(training_file, mode='rb') as f:\n",
        "  train = pickle.load(f)\n",
        "\n",
        "# open and load the testing file\n",
        "with open(testing_file, mode='rb') as f:\n",
        "  test = pickle.load(f)\n",
        "\n",
        "print('Data loaded')"
      ],
      "metadata": {
        "colab": {
          "base_uri": "https://localhost:8080/"
        },
        "id": "7KI_EQND1rr6",
        "outputId": "1e1fb531-32eb-4d9b-b3ec-ea378680e9ee"
      },
      "execution_count": 29,
      "outputs": [
        {
          "output_type": "stream",
          "name": "stdout",
          "text": [
            "Data loaded\n"
          ]
        }
      ]
    },
    {
      "cell_type": "markdown",
      "source": [
        "### Eksplorasi Data\n",
        "\n",
        "Tahapan eksplorasi data yang pertama adalah membaca file signnames.csv. File ini berisi id dan nama kelas dataset traffic sign. Mari implementasikan kode berikut."
      ],
      "metadata": {
        "id": "Zk0uGhRuZ3Re"
      }
    },
    {
      "cell_type": "code",
      "source": [
        "## Buat pandas dataframe untuk load data csv\n",
        "## File csv ini berupa ClassId dan SignName\n",
        " \n",
        "sign_name_df = pd.read_csv('/content/drive/MyDrive/Dataset/German Traffic Sign/signnames.csv')\n",
        "SIGN_NAMES = sign_name_df.SignName.values\n",
        "sign_name_df.set_index('ClassId', inplace = True)\n",
        "sign_name_df.head(10)"
      ],
      "metadata": {
        "colab": {
          "base_uri": "https://localhost:8080/",
          "height": 394
        },
        "id": "ZtktHXzUZ8i7",
        "outputId": "4ade7481-260d-4a22-b515-c1a23dce5fa3"
      },
      "execution_count": 30,
      "outputs": [
        {
          "output_type": "execute_result",
          "data": {
            "text/plain": [
              "                            SignName\n",
              "ClassId                             \n",
              "0               Speed limit (20km/h)\n",
              "1               Speed limit (30km/h)\n",
              "2               Speed limit (50km/h)\n",
              "3               Speed limit (60km/h)\n",
              "4               Speed limit (70km/h)\n",
              "5               Speed limit (80km/h)\n",
              "6        End of speed limit (80km/h)\n",
              "7              Speed limit (100km/h)\n",
              "8              Speed limit (120km/h)\n",
              "9                         No passing"
            ],
            "text/html": [
              "\n",
              "  <div id=\"df-03f57184-5780-46d9-a0e8-34c364c84ba3\">\n",
              "    <div class=\"colab-df-container\">\n",
              "      <div>\n",
              "<style scoped>\n",
              "    .dataframe tbody tr th:only-of-type {\n",
              "        vertical-align: middle;\n",
              "    }\n",
              "\n",
              "    .dataframe tbody tr th {\n",
              "        vertical-align: top;\n",
              "    }\n",
              "\n",
              "    .dataframe thead th {\n",
              "        text-align: right;\n",
              "    }\n",
              "</style>\n",
              "<table border=\"1\" class=\"dataframe\">\n",
              "  <thead>\n",
              "    <tr style=\"text-align: right;\">\n",
              "      <th></th>\n",
              "      <th>SignName</th>\n",
              "    </tr>\n",
              "    <tr>\n",
              "      <th>ClassId</th>\n",
              "      <th></th>\n",
              "    </tr>\n",
              "  </thead>\n",
              "  <tbody>\n",
              "    <tr>\n",
              "      <th>0</th>\n",
              "      <td>Speed limit (20km/h)</td>\n",
              "    </tr>\n",
              "    <tr>\n",
              "      <th>1</th>\n",
              "      <td>Speed limit (30km/h)</td>\n",
              "    </tr>\n",
              "    <tr>\n",
              "      <th>2</th>\n",
              "      <td>Speed limit (50km/h)</td>\n",
              "    </tr>\n",
              "    <tr>\n",
              "      <th>3</th>\n",
              "      <td>Speed limit (60km/h)</td>\n",
              "    </tr>\n",
              "    <tr>\n",
              "      <th>4</th>\n",
              "      <td>Speed limit (70km/h)</td>\n",
              "    </tr>\n",
              "    <tr>\n",
              "      <th>5</th>\n",
              "      <td>Speed limit (80km/h)</td>\n",
              "    </tr>\n",
              "    <tr>\n",
              "      <th>6</th>\n",
              "      <td>End of speed limit (80km/h)</td>\n",
              "    </tr>\n",
              "    <tr>\n",
              "      <th>7</th>\n",
              "      <td>Speed limit (100km/h)</td>\n",
              "    </tr>\n",
              "    <tr>\n",
              "      <th>8</th>\n",
              "      <td>Speed limit (120km/h)</td>\n",
              "    </tr>\n",
              "    <tr>\n",
              "      <th>9</th>\n",
              "      <td>No passing</td>\n",
              "    </tr>\n",
              "  </tbody>\n",
              "</table>\n",
              "</div>\n",
              "      <button class=\"colab-df-convert\" onclick=\"convertToInteractive('df-03f57184-5780-46d9-a0e8-34c364c84ba3')\"\n",
              "              title=\"Convert this dataframe to an interactive table.\"\n",
              "              style=\"display:none;\">\n",
              "        \n",
              "  <svg xmlns=\"http://www.w3.org/2000/svg\" height=\"24px\"viewBox=\"0 0 24 24\"\n",
              "       width=\"24px\">\n",
              "    <path d=\"M0 0h24v24H0V0z\" fill=\"none\"/>\n",
              "    <path d=\"M18.56 5.44l.94 2.06.94-2.06 2.06-.94-2.06-.94-.94-2.06-.94 2.06-2.06.94zm-11 1L8.5 8.5l.94-2.06 2.06-.94-2.06-.94L8.5 2.5l-.94 2.06-2.06.94zm10 10l.94 2.06.94-2.06 2.06-.94-2.06-.94-.94-2.06-.94 2.06-2.06.94z\"/><path d=\"M17.41 7.96l-1.37-1.37c-.4-.4-.92-.59-1.43-.59-.52 0-1.04.2-1.43.59L10.3 9.45l-7.72 7.72c-.78.78-.78 2.05 0 2.83L4 21.41c.39.39.9.59 1.41.59.51 0 1.02-.2 1.41-.59l7.78-7.78 2.81-2.81c.8-.78.8-2.07 0-2.86zM5.41 20L4 18.59l7.72-7.72 1.47 1.35L5.41 20z\"/>\n",
              "  </svg>\n",
              "      </button>\n",
              "      \n",
              "  <style>\n",
              "    .colab-df-container {\n",
              "      display:flex;\n",
              "      flex-wrap:wrap;\n",
              "      gap: 12px;\n",
              "    }\n",
              "\n",
              "    .colab-df-convert {\n",
              "      background-color: #E8F0FE;\n",
              "      border: none;\n",
              "      border-radius: 50%;\n",
              "      cursor: pointer;\n",
              "      display: none;\n",
              "      fill: #1967D2;\n",
              "      height: 32px;\n",
              "      padding: 0 0 0 0;\n",
              "      width: 32px;\n",
              "    }\n",
              "\n",
              "    .colab-df-convert:hover {\n",
              "      background-color: #E2EBFA;\n",
              "      box-shadow: 0px 1px 2px rgba(60, 64, 67, 0.3), 0px 1px 3px 1px rgba(60, 64, 67, 0.15);\n",
              "      fill: #174EA6;\n",
              "    }\n",
              "\n",
              "    [theme=dark] .colab-df-convert {\n",
              "      background-color: #3B4455;\n",
              "      fill: #D2E3FC;\n",
              "    }\n",
              "\n",
              "    [theme=dark] .colab-df-convert:hover {\n",
              "      background-color: #434B5C;\n",
              "      box-shadow: 0px 1px 3px 1px rgba(0, 0, 0, 0.15);\n",
              "      filter: drop-shadow(0px 1px 2px rgba(0, 0, 0, 0.3));\n",
              "      fill: #FFFFFF;\n",
              "    }\n",
              "  </style>\n",
              "\n",
              "      <script>\n",
              "        const buttonEl =\n",
              "          document.querySelector('#df-03f57184-5780-46d9-a0e8-34c364c84ba3 button.colab-df-convert');\n",
              "        buttonEl.style.display =\n",
              "          google.colab.kernel.accessAllowed ? 'block' : 'none';\n",
              "\n",
              "        async function convertToInteractive(key) {\n",
              "          const element = document.querySelector('#df-03f57184-5780-46d9-a0e8-34c364c84ba3');\n",
              "          const dataTable =\n",
              "            await google.colab.kernel.invokeFunction('convertToInteractive',\n",
              "                                                     [key], {});\n",
              "          if (!dataTable) return;\n",
              "\n",
              "          const docLinkHtml = 'Like what you see? Visit the ' +\n",
              "            '<a target=\"_blank\" href=https://colab.research.google.com/notebooks/data_table.ipynb>data table notebook</a>'\n",
              "            + ' to learn more about interactive tables.';\n",
              "          element.innerHTML = '';\n",
              "          dataTable['output_type'] = 'display_data';\n",
              "          await google.colab.output.renderOutput(dataTable, element);\n",
              "          const docLink = document.createElement('div');\n",
              "          docLink.innerHTML = docLinkHtml;\n",
              "          element.appendChild(docLink);\n",
              "        }\n",
              "      </script>\n",
              "    </div>\n",
              "  </div>\n",
              "  "
            ]
          },
          "metadata": {},
          "execution_count": 30
        }
      ]
    },
    {
      "cell_type": "markdown",
      "source": [
        "Selanjutnya, kita akan **mendefinisikan fitur dan label pada data pickle yang telah di-load, lalu mengonversi lists menjadi numpy array**. Kita akan melakukan ini pada data Training dan data Testing. Implementasikan kode berikut."
      ],
      "metadata": {
        "id": "pv8CKqUYbD3_"
      }
    },
    {
      "cell_type": "code",
      "source": [
        "# Definisikan fitur dan label untuk data training\n",
        "X, y = train['features'], train['labels']\n",
        " \n",
        "# Mengubah lists menjadi numpy arrays\n",
        "data = np.array(X)\n",
        "labels = np.array(y)\n",
        "print(data.shape, labels.shape)\n",
        " \n",
        "# Definisikan fitur dan label untuk data testing\n",
        "X_test, y_test = test['features'], test['labels']\n",
        " \n",
        "# Mengubah lists menjadi numpy arrays\n",
        "X_test = np.array(X_test)\n",
        "y_test = np.array(y_test)\n",
        "print(X_test.shape, y_test.shape)"
      ],
      "metadata": {
        "colab": {
          "base_uri": "https://localhost:8080/"
        },
        "id": "DuE-So1rbQ5H",
        "outputId": "5d95eb93-6422-4006-d646-1ce9614171d1"
      },
      "execution_count": 31,
      "outputs": [
        {
          "output_type": "stream",
          "name": "stdout",
          "text": [
            "(34799, 32, 32, 3) (34799,)\n",
            "(12630, 32, 32, 3) (12630,)\n"
          ]
        }
      ]
    },
    {
      "cell_type": "markdown",
      "source": [
        "Tahapan selanjutnya adalah melakukan split pada data training sehingga menjadi training dan validasi. Jadi, nanti kita akan memiliki tiga data, antara lain:\n",
        "\n",
        "- Data training\n",
        "- Data validasi\n",
        "- Data testing\n",
        "\n",
        "Di sini, kita menggunakan ukuran data validasi sebesar 10% dari data training. Kita juga set random_state=0 (bilangan integer bebas) agar proses split membagi data ke dalam kelompok yang sama."
      ],
      "metadata": {
        "id": "MOwyryfCcYMb"
      }
    },
    {
      "cell_type": "code",
      "source": [
        "# Split training data into train and val\n",
        "X_train, X_val, y_train, y_val = train_test_split(X, y, test_size=0.1, random_state=0)\n",
        "print(X_train.shape, X_val.shape, y_train.shape, y_val.shape)"
      ],
      "metadata": {
        "colab": {
          "base_uri": "https://localhost:8080/"
        },
        "id": "xespHAtHciU-",
        "outputId": "1e1bcfa5-14a8-45a3-8beb-1e5ad215f1e3"
      },
      "execution_count": 32,
      "outputs": [
        {
          "output_type": "stream",
          "name": "stdout",
          "text": [
            "(31319, 32, 32, 3) (3480, 32, 32, 3) (31319,) (3480,)\n"
          ]
        }
      ]
    },
    {
      "cell_type": "markdown",
      "source": [
        "Selanjutnya, visualisasikan distribusi kelas pada data training, validasi, dan testing. Hal ini perlu kita lakukan untuk melihat bagaimana distribusi kelas pada masing-masing data di atas. Implementasikan kode berikut."
      ],
      "metadata": {
        "id": "K9FUTtJ2dR90"
      }
    },
    {
      "cell_type": "code",
      "source": [
        "n_labels = np.unique(y_train).size\n",
        "def hist_data(y_data, title=None, ax=None, **kwargs):\n",
        "    if not ax :\n",
        "        fig = plt.figure()\n",
        "        ax = fig.add_subplot(111)\n",
        "    ax.hist(y_data, np.arange(-0.5, n_labels+1.5), stacked=True, **kwargs)\n",
        "    ax.set_xlim(-0.5, n_labels-0.5)\n",
        "    if 'label' in kwargs : ax.legend()\n",
        "    if title : ax.set_title(title)\n",
        "        \n",
        "fig,ax = plt.subplots(1,3, figsize=(20,5))\n",
        "hist_data(y_train, title='Distribusi kelas pada data training', ax=ax[0])\n",
        "hist_data(y_val, title='Distribusi kelas pada data validasi', ax=ax[1], color='black')\n",
        "hist_data(y_test, title='Distribusi kelas pada data test', ax=ax[2], color='grey')"
      ],
      "metadata": {
        "colab": {
          "base_uri": "https://localhost:8080/",
          "height": 336
        },
        "id": "BwecIXV7dW5Q",
        "outputId": "6bea15ec-b448-46d7-84f2-564c231956a1"
      },
      "execution_count": 33,
      "outputs": [
        {
          "output_type": "display_data",
          "data": {
            "text/plain": [
              "<Figure size 1440x360 with 3 Axes>"
            ],
            "image/png": "[encoded data removed]"
          },
          "metadata": {
            "image/png": {
              "width": 1163,
              "height": 319
            },
            "needs_background": "light"
          }
        }
      ]
    },
    {
      "cell_type": "markdown",
      "source": [
        "Dari gambar, **terlihat bahwa distribusi kelas masing-masing bagian data terlihat mirip. Oleh karena itu, kita tidak perlu melakukan proses normalisasi**. \n",
        "\n",
        "Tahap selanjutnya adalah Data Preparation. Pada tahap ini kita akan mengonversi label pada data training dan validasi dengan teknik **one hot encoding**. Tujuannya agar label, yang sebelumnya merupakan tipe data string menjadi fitur kategorik. Kita akan menggunakan fungsi to_categorical dari library tensorflow. Terapkan kode berikut:"
      ],
      "metadata": {
        "id": "gFCnBYAWdroI"
      }
    },
    {
      "cell_type": "code",
      "source": [
        "# Konversi label dengan teknik one hot encoding\n",
        "from tensorflow.keras.utils import to_categorical\n",
        "\n",
        "y_train = to_categorical(y_train, 43)\n",
        "y_val = to_categorical(y_val, 43) "
      ],
      "metadata": {
        "id": "d7ImvYCgd4Q1"
      },
      "execution_count": 34,
      "outputs": []
    },
    {
      "cell_type": "markdown",
      "source": [
        "Selesai! Sampai tahap ini, Anda telah mempersiapkan data sehingga **siap dimasukkan ke dalam model machine learning**. Selanjutnya, kita akan melakukan proses training dan testing dengan teknik deep learning. Yuk, lanjut ke materi berikutnya!\n",
        "\n",
        "---\n",
        "\n",
        "### Training dengan Convolutional Neural Network (CNN)\n",
        "Di sini kita akan langsung implementasikan callback pada model. Kita set agar training berhenti saat akurasi model mencapai 96%. Penggunaan callback akan mempersingkat waktu training sebab kita sudah definisikan di awal berapa nilai akurasi yang dibutuhkan. Sehingga, saat model telah mencapai akurasi tersebut, proses training akan berhenti. \n"
      ],
      "metadata": {
        "id": "73YpQxmleUTO"
      }
    },
    {
      "cell_type": "code",
      "source": [
        "class myCallback(tf.keras.callbacks.Callback):\n",
        "  def on_epoch_end(self, epoch, logs={}):\n",
        "    if(logs.get('accuracy') > 0.96):\n",
        "      print(\"\\nAkurasi telah mencapai >96%. Stop training!\")\n",
        "      self.model.stop_training = True\n",
        "callbacks = myCallback()"
      ],
      "metadata": {
        "id": "CHA6h5Jiew_9"
      },
      "execution_count": 27,
      "outputs": []
    },
    {
      "cell_type": "markdown",
      "source": [
        "Usai menerapkan callbacks, saatnya kita membuat arsitektur model untuk proses training. \n",
        "\n",
        "---\n",
        "Mari kita ingat kembali sebuah arsitektur Convolutional Network sederhana yang memiliki arsitektur lapisan (layer) Input-Convolutional-RELU-Pooling-FC. Berikut uraiannya:\n",
        "\n",
        "- Lapisan Input akan menampung gambar sebagai array 3D dari nilai piksel.\n",
        "\n",
        "- Lapisan Convolutional (konvolusi) akan menghitung perkalian (dot product) antara kernel dan sub-array dari gambar input yang berukuran sama dengan kernel. Sebagai contoh pada gambar berikut kita menggunakan kernel berukuran 3x3 dan melakukan proses perkalian antara kernel dan sub-array pada gambar masukan.\n",
        "\n",
        "> Matriks kernel akan melintasi setiap piksel pada gambar secara berurutan dari kiri ke kanan dan atas ke bawah. Ia menghitung nilai output untuk setiap piksel yang dilintasi kernel dengan teknik perkalian matriks dot product. Kemudian, semua nilai yang dihasilkan dari proses perkalian dot product ini akan menjadi nilai piksel tunggal dari gambar keluaran. Proses ini diulang sampai seluruh gambar input terlewati oleh kernel.\n",
        "\n",
        "- RELU atau Rectified Linear Activation Unit merupakan fungsi aktivasi linear untuk jaringan saraf tiruan. Ia telah menjadi fungsi aktivasi default karena model yang menggunakannya mencapai kinerja lebih baik dengan cepat.\n",
        "\n",
        "> Ingatlah, fungsi aktivasi digunakan untuk memetakan hasil penjumlahan antara bobot dengan masukan (disebut sebagai weighted sum) menjadi nilai tertentu. Fungsi ini memungkinkan perceptron dapat menyesuaikan pola untuk data non linear.\n",
        "\n",
        "> Nah, jika weighted sum ini bernilai positif, RELU akan mengembalikan nilainya secara langsung. Sebaliknya, jika nilainya negatif, RELU akan menghasilkan nilai nol. RELU didefinisikan sebagai:\n",
        "\n",
        "> f(x) = max(0, x), dengan x adalah jaringan saraf masukan (weighted sum).\n",
        "\n",
        "- Lapisan Pooling akan melakukan downsampling pada shape suatu gambar sehingga mengakibatkan pengurangan dimensi gambar. **Tujuannya adalah agar data komputasi yang dibutuhkan untuk memproses citra menjadi berkurang**.\n",
        "\n",
        "> Pooling layer terdiri dari dua jenis, average pooling dan max pooling. Pada max pooling, setiap area dengan luas piksel tertentu akan diambil satu buah piksel yang memiliki nilai tertinggi. Sementara pada average pooling, nilai yang diambil adalah nilai rata-rata dari suatu area kernel.\n",
        "\n",
        "> Lapisan pooling juga bertindak sebagai pengendali noise (gangguan). Namun, max pooling memiliki kinerja lebih baik dibanding dengan average pooling. **Oleh karena itu, max pooling lebih sering digunakan pada proses training CNN**. Kita juga akan menggunakannya dalam proyek ini.\n",
        "\n",
        "- Lapisan FC (Fully-Connected) akan menghitung skor kelas untuk setiap kategori klasifikasi. Lapisan ini sama dengan jaringan saraf di mana setiap neuron terhubung ke semua neuron pada lapisan secara berurutan. Output akhir dihitung menggunakan softmax yang memberikan probabilitas setiap kelas untuk fitur yang diberikan.\n",
        "\n",
        "> Untuk melewatkan gambar masukan ke lapisan FC, kita perlu melakukan proses flatten sehingga semua nilai piksel diatur dalam satu kolom. Flatten adalah proses mengubah data menjadi array 1 dimensi untuk dimasukkan ke lapisan berikutnya. Kita membuat output dari lapisan konvolusi menjadi satu vektor fitur yang panjang (flat). Kemudian, fitur yang telah melewati proses flatten diteruskan ke lapisan FC.\n",
        "\n",
        "---\n",
        "\n",
        "Pada proyek ini, kita menggunakan arsitektur 2 convolutional layer dan 1 fully connected layer. Untuk lebih jelasnya, mari kita bahas setiap layernya.\n",
        "--\n",
        "Pertama, inisialisasi model Sequential dan tentukan input shape untuk model. Set layer ini menggunakan kernel berukuran 5x5 untuk mempelajari fitur pada data traffic sign. Input masukan kita sesuaikan dengan shape X_train yaitu sebuah gambar RGB berukuran 32 pixels (32, 32, 3). Fungsi aktivasi yang akan kita gunakan adalah RELU, seperti yang telah dijelaskan sebelumnya. **Max Pooling layer juga kita tambahkan untuk mengurangi dimensi**\n",
        "\n",
        "Di sini, kita juga menerapkan **dropout. Dropout merupakan salah satu hyperparameter yang bertujuan untuk mengurangi overfitting**. Ia bekerja dengan memutus atau menjatuhkan (drop) unit selama proses training neural network sehingga layer atau lapisannya menjadi tidak aktif. **Berdasarkan dokumentasi dari Keras, argumen rate untuk dropout adalah tipe data float antara 0 dan 1, yang merupakan bagian dari unit yang akan di-drop**. \n",
        "\n",
        "> Jika kita set dropout rate = 0.25, artinya, kita akan melepas 25% dari layer dan membuatnya menjadi tidak aktif selama proses training.\n",
        "\n",
        "---\n",
        "\n",
        "Berikut set layer kita yang pertama. Pada arsitektur ini, set parameter layer sebagai berikut:\n",
        "\n",
        "- Ukuran filter untuk proses konvolusi=32\n",
        "- Ukuran kernel=(5,5)\n",
        "- Fungsi aktivasi RELU\n",
        "- Pooling yang kita gunakan adalah Maxpool dengan ukuran 2,2\n",
        "- Dropout rate sebesar 0.25"
      ],
      "metadata": {
        "id": "UwdHny_nfyuN"
      }
    },
    {
      "cell_type": "code",
      "source": [
        "#layer pertama\n",
        "model = Sequential()\n",
        "model.add(Conv2D(filters=32, kernel_size=(5,5), activation='relu', input_shape=X_train.shape[1:]))\n",
        "model.add(Conv2D(filters=32, kernel_size=(5,5), activation='relu'))\n",
        "model.add(MaxPool2D(pool_size=(2,2)))\n",
        "model.add(Dropout(rate=0.25))"
      ],
      "metadata": {
        "id": "92bc4Ul2d5Qe"
      },
      "execution_count": 35,
      "outputs": []
    },
    {
      "cell_type": "code",
      "source": [
        "#layer kedua\n",
        "model.add(Conv2D(filters=64, kernel_size=(3,3), activation='relu'))\n",
        "model.add(Conv2D(filters=64,kernel_size=(3,3), activation='relu'))\n",
        "model.add(MaxPool2D(pool_size=(2,2)))\n",
        "model.add(Dropout(rate=0.25))"
      ],
      "metadata": {
        "id": "NGPhB0Rhgiu3"
      },
      "execution_count": 36,
      "outputs": []
    },
    {
      "cell_type": "markdown",
      "source": [
        "Kali ini, Anda tentu bisa langsung memahami arsitektur layer dan parameter yang digunakan pada layer kedua. Mari kita lanjut ke bagian fully connected layer."
      ],
      "metadata": {
        "id": "eQL0pyhEhQJJ"
      }
    },
    {
      "cell_type": "code",
      "source": [
        "#fully connected layer\n",
        "model.add(Flatten())\n",
        "model.add(Dense(256, activation='relu'))\n",
        "model.add(Dropout(0.5))\n",
        "model.add(Dense(43, activation='softmax'))"
      ],
      "metadata": {
        "id": "Vh_fQA5MhTJj"
      },
      "execution_count": 37,
      "outputs": []
    },
    {
      "cell_type": "markdown",
      "source": [
        "> Pada bagian ini, kita juga menerapkan Dense layer. **Dense layer merupakan lapisan saraf yang menerima input dari semua neuron pada lapisan sebelumnya**. Menurut dokumentasi keras, lapisan ini mengimplementasikan operasi matriks antara **(activation(dot(input, kernel) + bias)**. Fungsi aktivasi merupakan argumen untuk mendefinisikan fungsi aktivasi yang kita gunakan, dalam hal ini RELU. Sedangkan bias adalah vektor yang dibuat oleh layer dan hanya akan aktif jika kita definisikan sebelumnya (use_bias=true).\n",
        "\n",
        "Selanjutnya, kita akan melakukan kompilasi model dan memanggil fungsi fit untuk memulai training. Implementasikan kode berikut."
      ],
      "metadata": {
        "id": "2vJir3Rxh5aX"
      }
    },
    {
      "cell_type": "code",
      "source": [
        "# Compile the model\n",
        "model.compile(loss='categorical_crossentropy', optimizer='adam', metrics=['accuracy'])\n",
        "epochs =5\n",
        "history = model.fit(X_train, y_train,  batch_size=32, epochs=epochs, validation_data=(X_val, y_val), callbacks= [callbacks])\n",
        "#save the model\n",
        "model.save('my_model.h5')"
      ],
      "metadata": {
        "colab": {
          "base_uri": "https://localhost:8080/"
        },
        "id": "dc6ImwI7iPuC",
        "outputId": "a4b106b6-2cb8-4c20-fde5-5e3a55285d27"
      },
      "execution_count": 39,
      "outputs": [
        {
          "output_type": "stream",
          "name": "stdout",
          "text": [
            "Epoch 1/5\n",
            "979/979 [==============================] - 167s 170ms/step - loss: 0.2136 - accuracy: 0.9578 - val_loss: 0.1061 - val_accuracy: 0.9739\n",
            "Epoch 2/5\n",
            "979/979 [==============================] - ETA: 0s - loss: 0.1772 - accuracy: 0.9607\n",
            "Akurasi telah mencapai >96%. Stop training!\n",
            "979/979 [==============================] - 179s 183ms/step - loss: 0.1772 - accuracy: 0.9607 - val_loss: 0.0607 - val_accuracy: 0.9859\n"
          ]
        }
      ]
    },
    {
      "cell_type": "markdown",
      "source": [
        "Ketahuilah, **hasil training pada machine learning tidak selalu sama**. Anda mungkin akan mendapat hasil akurasi tertentu yang diperoleh dengan lebih cepat atau lebih lambat. **Namun, secara umum, tidak akan terlalu jauh bedanya**. Jadi, tidak perlu khawatir, ya!\n",
        "\n",
        "> **Perbedaan hasil ini bisa jadi disebabkan oleh perilaku dan kinerja algoritma machine learning yang bersifat stokastik**. Deep neural network dilatih menggunakan algoritma optimasi penurunan gradien stokastik. **Stokastik di sini mengacu pada proses yang melibatkan beberapa situasi acak (random) dan ketidakpastian (uncertainty)**. Sifat stokastik pada algoritma machine learning adalah konsep dasar yang penting dan harus dipahami oleh para praktisi machine learning. Tujuannya, agar kita dapat menafsirkan perilaku banyak model prediktif secara efektif. \n",
        "\n",
        "Terakhir, untuk mendapatkan grafik akurasi dan loss, terapkan kode berikut."
      ],
      "metadata": {
        "id": "Oj6od2rZjekH"
      }
    },
    {
      "cell_type": "code",
      "source": [
        "# Plotting graphs for accuracy \n",
        "plt.figure(0)\n",
        "plt.plot(history.history['accuracy'], label='training accuracy')\n",
        "plt.plot(history.history['val_accuracy'], label='val accuracy')\n",
        "plt.title('Accuracy')\n",
        "plt.xlabel('epochs')\n",
        "plt.ylabel('accuracy')\n",
        "plt.legend()\n",
        "plt.show()\n",
        " \n",
        "# Plotting graphs for loss\n",
        "plt.figure(1)\n",
        "plt.plot(history.history['loss'], label='training loss')\n",
        "plt.plot(history.history['val_loss'], label='val loss')\n",
        "plt.title('Loss')\n",
        "plt.xlabel('epochs')\n",
        "plt.ylabel('loss')\n",
        "plt.legend()\n",
        "plt.show()"
      ],
      "metadata": {
        "colab": {
          "base_uri": "https://localhost:8080/",
          "height": 579
        },
        "id": "CI4bEslvj7po",
        "outputId": "bd5b69ac-5479-4919-de22-1717722d984b"
      },
      "execution_count": 40,
      "outputs": [
        {
          "output_type": "display_data",
          "data": {
            "text/plain": [
              "<Figure size 432x288 with 1 Axes>"
            ],
            "image/png": "[encoded data removed]"
          },
          "metadata": {
            "image/png": {
              "width": 400,
              "height": 281
            },
            "needs_background": "light"
          }
        },
        {
          "output_type": "display_data",
          "data": {
            "text/plain": [
              "<Figure size 432x288 with 1 Axes>"
            ],
            "image/png": "[encoded data removed]"
          },
          "metadata": {
            "image/png": {
              "width": 394,
              "height": 281
            },
            "needs_background": "light"
          }
        }
      ]
    },
    {
      "cell_type": "markdown",
      "source": [
        "### Testing Model\n",
        "Pada tahap eksplorasi data, kita membagi data menjadi tiga bagian, yaitu data training, validasi, dan testing. Setelah memperoleh hasil pada data training dan validasi, kita akan menguji model pada data yang belum pernah dilihat sebelumnya, yaitu data testing. Untuk mengujinya, implementasikan kode berikut."
      ],
      "metadata": {
        "id": "zvx9iMjTbeH2"
      }
    },
    {
      "cell_type": "code",
      "source": [
        "# Testing accuracy with the test data\n",
        "from sklearn.metrics import accuracy_score\n",
        " \n",
        "pred=np.argmax(model.predict(X_test), axis=-1)\n",
        "accuracy_score(y_test, pred)"
      ],
      "metadata": {
        "colab": {
          "base_uri": "https://localhost:8080/"
        },
        "id": "sqEJAjchbi32",
        "outputId": "991a1d69-15d5-480b-b904-2fe024e2e8f1"
      },
      "execution_count": 41,
      "outputs": [
        {
          "output_type": "stream",
          "name": "stdout",
          "text": [
            "395/395 [==============================] - 15s 39ms/step\n"
          ]
        },
        {
          "output_type": "execute_result",
          "data": {
            "text/plain": [
              "0.9570071258907363"
            ]
          },
          "metadata": {},
          "execution_count": 41
        }
      ]
    },
    {
      "cell_type": "markdown",
      "source": [
        "Selanjutnya, untuk memperoleh metrik klasifikasi lain seperti precision, recall, dan f1-score, mari kita terapkan fungsi classification_report dari library sklearn. "
      ],
      "metadata": {
        "id": "91EwvVk1b9pb"
      }
    },
    {
      "cell_type": "code",
      "source": [
        "# Calculate metrics for classification\n",
        "from sklearn.metrics import classification_report\n",
        " \n",
        "print(classification_report(y_test, pred))"
      ],
      "metadata": {
        "colab": {
          "base_uri": "https://localhost:8080/"
        },
        "id": "CteBnH5Ub-cH",
        "outputId": "6385308d-6fef-4a2a-db31-0524b8277b28"
      },
      "execution_count": 42,
      "outputs": [
        {
          "output_type": "stream",
          "name": "stdout",
          "text": [
            "              precision    recall  f1-score   support\n",
            "\n",
            "           0       1.00      0.97      0.98        60\n",
            "           1       0.95      0.98      0.97       720\n",
            "           2       0.98      0.97      0.97       750\n",
            "           3       0.99      0.90      0.94       450\n",
            "           4       0.99      0.97      0.98       660\n",
            "           5       0.83      0.98      0.90       630\n",
            "           6       0.96      0.79      0.86       150\n",
            "           7       0.94      0.96      0.95       450\n",
            "           8       0.93      0.95      0.94       450\n",
            "           9       0.96      1.00      0.98       480\n",
            "          10       1.00      1.00      1.00       660\n",
            "          11       0.91      0.94      0.93       420\n",
            "          12       1.00      0.98      0.99       690\n",
            "          13       1.00      0.99      0.99       720\n",
            "          14       0.99      0.96      0.98       270\n",
            "          15       0.98      0.99      0.99       210\n",
            "          16       0.99      1.00      1.00       150\n",
            "          17       0.99      1.00      0.99       360\n",
            "          18       0.92      0.87      0.90       390\n",
            "          19       0.87      1.00      0.93        60\n",
            "          20       0.79      0.99      0.88        90\n",
            "          21       0.84      0.82      0.83        90\n",
            "          22       0.95      0.78      0.85       120\n",
            "          23       0.94      0.99      0.96       150\n",
            "          24       0.98      0.91      0.94        90\n",
            "          25       0.94      0.95      0.95       480\n",
            "          26       0.96      0.86      0.91       180\n",
            "          27       0.79      0.57      0.66        60\n",
            "          28       0.98      0.99      0.98       150\n",
            "          29       0.96      0.97      0.96        90\n",
            "          30       0.97      0.92      0.94       150\n",
            "          31       0.99      0.99      0.99       270\n",
            "          32       1.00      0.97      0.98        60\n",
            "          33       0.97      1.00      0.98       210\n",
            "          34       0.89      0.99      0.94       120\n",
            "          35       0.99      0.98      0.99       390\n",
            "          36       0.95      0.93      0.94       120\n",
            "          37       0.92      0.98      0.95        60\n",
            "          38       0.98      0.98      0.98       690\n",
            "          39       0.90      0.86      0.88        90\n",
            "          40       0.94      0.74      0.83        90\n",
            "          41       0.96      0.72      0.82        60\n",
            "          42       0.99      1.00      0.99        90\n",
            "\n",
            "    accuracy                           0.96     12630\n",
            "   macro avg       0.95      0.93      0.94     12630\n",
            "weighted avg       0.96      0.96      0.96     12630\n",
            "\n"
          ]
        }
      ]
    },
    {
      "cell_type": "markdown",
      "source": [
        "Jika diperhatikan pada hampir semua kelas, akurasi precision, recall, dan f1-score memiliki angka yang tinggi, rata-rata di atas 90-an. Namun, pada beberapa kelas seperti kelas dengan indeks 22 dan 41, akurasi rata-ratanya berada dibawah 80%. Hal ini bisa disebabkan oleh representasi fitur yang cukup kompleks dari kedua kelas ini.\n",
        "\n",
        "---\n",
        "Yay! Anda telah berhasil membuat model untuk mengklasifikasikan rambu lalu lintas!\n",
        "\n",
        "---"
      ],
      "metadata": {
        "id": "rBIB8LSjdEJ3"
      }
    }
  ]
}